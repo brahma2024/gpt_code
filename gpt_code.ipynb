{
  "nbformat": 4,
  "nbformat_minor": 0,
  "metadata": {
    "colab": {
      "provenance": [],
      "authorship_tag": "ABX9TyNrGl9wusdCfJcVvkjbmETB",
      "include_colab_link": true
    },
    "kernelspec": {
      "name": "python3",
      "display_name": "Python 3"
    },
    "language_info": {
      "name": "python"
    }
  },
  "cells": [
    {
      "cell_type": "markdown",
      "metadata": {
        "id": "view-in-github",
        "colab_type": "text"
      },
      "source": [
        "<a href=\"https://colab.research.google.com/github/brahma2024/gpt_code/blob/dev/gpt_code.ipynb\" target=\"_parent\"><img src=\"https://colab.research.google.com/assets/colab-badge.svg\" alt=\"Open In Colab\"/></a>"
      ]
    },
    {
      "cell_type": "markdown",
      "source": [
        "# Building a GPT\n",
        "Companion notebook to the GPT notebook."
      ],
      "metadata": {
        "id": "sWg08ow5EQ18"
      }
    },
    {
      "cell_type": "code",
      "source": [
        "import base64\n",
        "import requests"
      ],
      "metadata": {
        "id": "gaf9H8977N31"
      },
      "execution_count": null,
      "outputs": []
    },
    {
      "cell_type": "code",
      "execution_count": null,
      "metadata": {
        "id": "LkGEe2xlXR08",
        "colab": {
          "base_uri": "https://localhost:8080/"
        },
        "outputId": "ca4602d2-b2a8-4c9f-d7d2-444df6ec0b2a"
      },
      "outputs": [
        {
          "output_type": "stream",
          "name": "stdout",
          "text": [
            "--2024-04-08 00:40:45--  https://raw.githubusercontent.com/brahma2024/gpt_code/master/input.txt\n",
            "Resolving raw.githubusercontent.com (raw.githubusercontent.com)... 185.199.108.133, 185.199.109.133, 185.199.110.133, ...\n",
            "Connecting to raw.githubusercontent.com (raw.githubusercontent.com)|185.199.108.133|:443... connected.\n",
            "HTTP request sent, awaiting response... 200 OK\n",
            "Length: 10008 (9.8K) [text/plain]\n",
            "Saving to: ‘input.txt’\n",
            "\n",
            "\rinput.txt             0%[                    ]       0  --.-KB/s               \rinput.txt           100%[===================>]   9.77K  --.-KB/s    in 0s      \n",
            "\n",
            "2024-04-08 00:40:45 (55.2 MB/s) - ‘input.txt’ saved [10008/10008]\n",
            "\n"
          ]
        }
      ],
      "source": [
        "# We start with dataset to train on\n",
        "!wget https://raw.githubusercontent.com/brahma2024/gpt_code/master/input.txt"
      ]
    },
    {
      "cell_type": "code",
      "source": [
        "# read the input text\n",
        "with open('input.txt', 'r', encoding='utf-8') as f:\n",
        "  text = f.read()"
      ],
      "metadata": {
        "id": "yzDS6AKY7Mrk"
      },
      "execution_count": null,
      "outputs": []
    },
    {
      "cell_type": "code",
      "source": [
        "print(\"length of dataset in characters: \", len(text))"
      ],
      "metadata": {
        "colab": {
          "base_uri": "https://localhost:8080/"
        },
        "id": "FawzbwGpx2ub",
        "outputId": "8796c15b-d1c1-4dae-a845-af9648d884c5"
      },
      "execution_count": null,
      "outputs": [
        {
          "output_type": "stream",
          "name": "stdout",
          "text": [
            "length of dataset in characters:  10008\n"
          ]
        }
      ]
    },
    {
      "cell_type": "code",
      "source": [
        "# lets look at the first 1000 characters\n",
        "print(text[:1000])"
      ],
      "metadata": {
        "colab": {
          "base_uri": "https://localhost:8080/"
        },
        "id": "LTBYWpIUgx-o",
        "outputId": "267129b3-df44-4cee-e2b6-40b9715d7e3c"
      },
      "execution_count": null,
      "outputs": [
        {
          "output_type": "stream",
          "name": "stdout",
          "text": [
            "Naman:\n",
            "The top in a world by susphoring grace.\n",
            "\n",
            "LUCIO:\n",
            "We muse hath resistes him so sovere: son't his other wrough\n",
            "stands of coverent sh'd: he has here, and stand it\n",
            "and poor exceeder or a Henry's last, stay\n",
            "not in faith, forewell's base of graves, thanks, happy comparel,\n",
            "warmentfully: may as face by the courst, that strangth\n",
            "errise hath breathed. Hastings come to Valenting.\n",
            "\n",
            "HERMIONE:\n",
            "Well have been bolly poor late\n",
            "Is the lords.\n",
            "\n",
            "ABELLA:\n",
            "Let's found: I will kind him;\n",
            "I do braw'sy him business wherein far his face.\n",
            "\n",
            "LUCENTIO:\n",
            "He is last afford: make him diseably to London,\n",
            "Take him great Hastings, boldness in his natic keeps,\n",
            "To oftragn lost me ready glust through the house.\n",
            "Why chose that I dares it be a Montague.\n",
            "\n",
            "MONTAGUE:\n",
            "Woe's Claudly Haste of his own at last the Volscient,\n",
            "And seen'd helpit: bearn to do it be, and most hop,\n",
            "Miscause's more conterar than without this lambs\n",
            "Shall down appla fortune flight flowers.\n",
            "\n",
            "FRIAR LAUAURENCE:\n",
            "His son, do your morself, that leaven your honour\n"
          ]
        }
      ]
    },
    {
      "cell_type": "code",
      "source": [
        "# here are all unique characters that occur in this set\n",
        "chars = sorted(list(set(text)))\n",
        "vocab_size = len(chars)\n",
        "print('number of characters: ', vocab_size)"
      ],
      "metadata": {
        "colab": {
          "base_uri": "https://localhost:8080/"
        },
        "id": "cTktLctEhkoV",
        "outputId": "e0f3cf01-bd96-4d80-d9d4-65ba88103787"
      },
      "execution_count": null,
      "outputs": [
        {
          "output_type": "stream",
          "name": "stdout",
          "text": [
            "number of characters:  59\n"
          ]
        }
      ]
    },
    {
      "cell_type": "code",
      "source": [
        "# creating a mapping from characters to integers\n",
        "stoi = {ch:i for i,ch in enumerate(chars) }\n",
        "#for i,ch in enumerate(chars):\n",
        "  #print(f\"{ch}:{i}\")\n",
        "print(\"stoi = \", stoi)"
      ],
      "metadata": {
        "colab": {
          "base_uri": "https://localhost:8080/"
        },
        "id": "v6ub3_oxv_fD",
        "outputId": "f797fa8a-8a44-44df-fbff-68a4a2129111"
      },
      "execution_count": null,
      "outputs": [
        {
          "output_type": "stream",
          "name": "stdout",
          "text": [
            "stoi =  {'\\n': 0, ' ': 1, '!': 2, \"'\": 3, ',': 4, '-': 5, '.': 6, ':': 7, ';': 8, '?': 9, 'A': 10, 'B': 11, 'C': 12, 'D': 13, 'E': 14, 'F': 15, 'G': 16, 'H': 17, 'I': 18, 'K': 19, 'L': 20, 'M': 21, 'N': 22, 'O': 23, 'P': 24, 'Q': 25, 'R': 26, 'S': 27, 'T': 28, 'U': 29, 'V': 30, 'W': 31, 'Y': 32, 'a': 33, 'b': 34, 'c': 35, 'd': 36, 'e': 37, 'f': 38, 'g': 39, 'h': 40, 'i': 41, 'j': 42, 'k': 43, 'l': 44, 'm': 45, 'n': 46, 'o': 47, 'p': 48, 'q': 49, 'r': 50, 's': 51, 't': 52, 'u': 53, 'v': 54, 'w': 55, 'x': 56, 'y': 57, 'z': 58}\n"
          ]
        }
      ]
    },
    {
      "cell_type": "code",
      "source": [
        "itos = {i:ch for i,ch in enumerate(chars)}\n",
        "#for i,ch in enumerate(chars):\n",
        "#  print(f\"{i}:{ch}\")\n",
        "print(\"itos = \", itos)"
      ],
      "metadata": {
        "colab": {
          "base_uri": "https://localhost:8080/"
        },
        "id": "7A86Lfndx4-7",
        "outputId": "d23a8fb0-53b0-413c-a2b5-c0fa5d352df4"
      },
      "execution_count": null,
      "outputs": [
        {
          "output_type": "stream",
          "name": "stdout",
          "text": [
            "itos =  {0: '\\n', 1: ' ', 2: '!', 3: \"'\", 4: ',', 5: '-', 6: '.', 7: ':', 8: ';', 9: '?', 10: 'A', 11: 'B', 12: 'C', 13: 'D', 14: 'E', 15: 'F', 16: 'G', 17: 'H', 18: 'I', 19: 'K', 20: 'L', 21: 'M', 22: 'N', 23: 'O', 24: 'P', 25: 'Q', 26: 'R', 27: 'S', 28: 'T', 29: 'U', 30: 'V', 31: 'W', 32: 'Y', 33: 'a', 34: 'b', 35: 'c', 36: 'd', 37: 'e', 38: 'f', 39: 'g', 40: 'h', 41: 'i', 42: 'j', 43: 'k', 44: 'l', 45: 'm', 46: 'n', 47: 'o', 48: 'p', 49: 'q', 50: 'r', 51: 's', 52: 't', 53: 'u', 54: 'v', 55: 'w', 56: 'x', 57: 'y', 58: 'z'}\n"
          ]
        }
      ]
    },
    {
      "cell_type": "code",
      "source": [
        "encode = lambda s: [stoi[c] for c in s] # encoder: take a string, output a list of integeres\n",
        "decode = lambda l: ''.join([itos[i] for i in l]) # decode: take a list of integers, output a string\n",
        "\n",
        "print(encode(\"hi there\"))\n",
        "print(decode(encode(\"hi there\")))"
      ],
      "metadata": {
        "colab": {
          "base_uri": "https://localhost:8080/"
        },
        "id": "vifsMhD4y2cG",
        "outputId": "2c911d13-7aa8-4d1e-b8f6-796d4f54d2b4"
      },
      "execution_count": null,
      "outputs": [
        {
          "output_type": "stream",
          "name": "stdout",
          "text": [
            "[40, 41, 1, 52, 40, 37, 50, 37]\n",
            "hi there\n"
          ]
        }
      ]
    },
    {
      "cell_type": "code",
      "source": [
        "# Lets now encode the entire text dataset and store it into a torch.Tensor\n",
        "import torch # we use PyTorch: https://pytorch.org\n",
        "data = torch.tensor(encode(text),dtype=torch.long)\n",
        "print(data.shape, data.dtype)\n",
        "print(data[:1000]) # the 1000 characters we looked at earlier will to GPT look like this"
      ],
      "metadata": {
        "colab": {
          "base_uri": "https://localhost:8080/"
        },
        "id": "m4nmba-Fnzs9",
        "outputId": "9aa1f47c-ae9f-4092-f249-32000ac12e85"
      },
      "execution_count": null,
      "outputs": [
        {
          "output_type": "stream",
          "name": "stdout",
          "text": [
            "torch.Size([10008]) torch.int64\n",
            "tensor([22, 33, 45, 33, 46,  7,  0, 28, 40, 37,  1, 52, 47, 48,  1, 41, 46,  1,\n",
            "        33,  1, 55, 47, 50, 44, 36,  1, 34, 57,  1, 51, 53, 51, 48, 40, 47, 50,\n",
            "        41, 46, 39,  1, 39, 50, 33, 35, 37,  6,  0,  0, 20, 29, 12, 18, 23,  7,\n",
            "         0, 31, 37,  1, 45, 53, 51, 37,  1, 40, 33, 52, 40,  1, 50, 37, 51, 41,\n",
            "        51, 52, 37, 51,  1, 40, 41, 45,  1, 51, 47,  1, 51, 47, 54, 37, 50, 37,\n",
            "         7,  1, 51, 47, 46,  3, 52,  1, 40, 41, 51,  1, 47, 52, 40, 37, 50,  1,\n",
            "        55, 50, 47, 53, 39, 40,  0, 51, 52, 33, 46, 36, 51,  1, 47, 38,  1, 35,\n",
            "        47, 54, 37, 50, 37, 46, 52,  1, 51, 40,  3, 36,  7,  1, 40, 37,  1, 40,\n",
            "        33, 51,  1, 40, 37, 50, 37,  4,  1, 33, 46, 36,  1, 51, 52, 33, 46, 36,\n",
            "         1, 41, 52,  0, 33, 46, 36,  1, 48, 47, 47, 50,  1, 37, 56, 35, 37, 37,\n",
            "        36, 37, 50,  1, 47, 50,  1, 33,  1, 17, 37, 46, 50, 57,  3, 51,  1, 44,\n",
            "        33, 51, 52,  4,  1, 51, 52, 33, 57,  0, 46, 47, 52,  1, 41, 46,  1, 38,\n",
            "        33, 41, 52, 40,  4,  1, 38, 47, 50, 37, 55, 37, 44, 44,  3, 51,  1, 34,\n",
            "        33, 51, 37,  1, 47, 38,  1, 39, 50, 33, 54, 37, 51,  4,  1, 52, 40, 33,\n",
            "        46, 43, 51,  4,  1, 40, 33, 48, 48, 57,  1, 35, 47, 45, 48, 33, 50, 37,\n",
            "        44,  4,  0, 55, 33, 50, 45, 37, 46, 52, 38, 53, 44, 44, 57,  7,  1, 45,\n",
            "        33, 57,  1, 33, 51,  1, 38, 33, 35, 37,  1, 34, 57,  1, 52, 40, 37,  1,\n",
            "        35, 47, 53, 50, 51, 52,  4,  1, 52, 40, 33, 52,  1, 51, 52, 50, 33, 46,\n",
            "        39, 52, 40,  0, 37, 50, 50, 41, 51, 37,  1, 40, 33, 52, 40,  1, 34, 50,\n",
            "        37, 33, 52, 40, 37, 36,  6,  1, 17, 33, 51, 52, 41, 46, 39, 51,  1, 35,\n",
            "        47, 45, 37,  1, 52, 47,  1, 30, 33, 44, 37, 46, 52, 41, 46, 39,  6,  0,\n",
            "         0, 17, 14, 26, 21, 18, 23, 22, 14,  7,  0, 31, 37, 44, 44,  1, 40, 33,\n",
            "        54, 37,  1, 34, 37, 37, 46,  1, 34, 47, 44, 44, 57,  1, 48, 47, 47, 50,\n",
            "         1, 44, 33, 52, 37,  0, 18, 51,  1, 52, 40, 37,  1, 44, 47, 50, 36, 51,\n",
            "         6,  0,  0, 10, 11, 14, 20, 20, 10,  7,  0, 20, 37, 52,  3, 51,  1, 38,\n",
            "        47, 53, 46, 36,  7,  1, 18,  1, 55, 41, 44, 44,  1, 43, 41, 46, 36,  1,\n",
            "        40, 41, 45,  8,  0, 18,  1, 36, 47,  1, 34, 50, 33, 55,  3, 51, 57,  1,\n",
            "        40, 41, 45,  1, 34, 53, 51, 41, 46, 37, 51, 51,  1, 55, 40, 37, 50, 37,\n",
            "        41, 46,  1, 38, 33, 50,  1, 40, 41, 51,  1, 38, 33, 35, 37,  6,  0,  0,\n",
            "        20, 29, 12, 14, 22, 28, 18, 23,  7,  0, 17, 37,  1, 41, 51,  1, 44, 33,\n",
            "        51, 52,  1, 33, 38, 38, 47, 50, 36,  7,  1, 45, 33, 43, 37,  1, 40, 41,\n",
            "        45,  1, 36, 41, 51, 37, 33, 34, 44, 57,  1, 52, 47,  1, 20, 47, 46, 36,\n",
            "        47, 46,  4,  0, 28, 33, 43, 37,  1, 40, 41, 45,  1, 39, 50, 37, 33, 52,\n",
            "         1, 17, 33, 51, 52, 41, 46, 39, 51,  4,  1, 34, 47, 44, 36, 46, 37, 51,\n",
            "        51,  1, 41, 46,  1, 40, 41, 51,  1, 46, 33, 52, 41, 35,  1, 43, 37, 37,\n",
            "        48, 51,  4,  0, 28, 47,  1, 47, 38, 52, 50, 33, 39, 46,  1, 44, 47, 51,\n",
            "        52,  1, 45, 37,  1, 50, 37, 33, 36, 57,  1, 39, 44, 53, 51, 52,  1, 52,\n",
            "        40, 50, 47, 53, 39, 40,  1, 52, 40, 37,  1, 40, 47, 53, 51, 37,  6,  0,\n",
            "        31, 40, 57,  1, 35, 40, 47, 51, 37,  1, 52, 40, 33, 52,  1, 18,  1, 36,\n",
            "        33, 50, 37, 51,  1, 41, 52,  1, 34, 37,  1, 33,  1, 21, 47, 46, 52, 33,\n",
            "        39, 53, 37,  6,  0,  0, 21, 23, 22, 28, 10, 16, 29, 14,  7,  0, 31, 47,\n",
            "        37,  3, 51,  1, 12, 44, 33, 53, 36, 44, 57,  1, 17, 33, 51, 52, 37,  1,\n",
            "        47, 38,  1, 40, 41, 51,  1, 47, 55, 46,  1, 33, 52,  1, 44, 33, 51, 52,\n",
            "         1, 52, 40, 37,  1, 30, 47, 44, 51, 35, 41, 37, 46, 52,  4,  0, 10, 46,\n",
            "        36,  1, 51, 37, 37, 46,  3, 36,  1, 40, 37, 44, 48, 41, 52,  7,  1, 34,\n",
            "        37, 33, 50, 46,  1, 52, 47,  1, 36, 47,  1, 41, 52,  1, 34, 37,  4,  1,\n",
            "        33, 46, 36,  1, 45, 47, 51, 52,  1, 40, 47, 48,  4,  0, 21, 41, 51, 35,\n",
            "        33, 53, 51, 37,  3, 51,  1, 45, 47, 50, 37,  1, 35, 47, 46, 52, 37, 50,\n",
            "        33, 50,  1, 52, 40, 33, 46,  1, 55, 41, 52, 40, 47, 53, 52,  1, 52, 40,\n",
            "        41, 51,  1, 44, 33, 45, 34, 51,  0, 27, 40, 33, 44, 44,  1, 36, 47, 55,\n",
            "        46,  1, 33, 48, 48, 44, 33,  1, 38, 47, 50, 52, 53, 46, 37,  1, 38, 44,\n",
            "        41, 39, 40, 52,  1, 38, 44, 47, 55, 37, 50, 51,  6,  0,  0, 15, 26, 18,\n",
            "        10, 26,  1, 20, 10, 29, 10, 29, 26, 14, 22, 12, 14,  7,  0, 17, 41, 51,\n",
            "         1, 51, 47, 46,  4,  1, 36, 47,  1, 57, 47, 53, 50,  1, 45, 47, 50, 51,\n",
            "        37, 44, 38,  4,  1, 52, 40, 33, 52,  1, 44, 37, 33, 54, 37, 46,  1, 57,\n",
            "        47, 53, 50,  1, 40, 47, 46, 47, 53, 50])\n"
          ]
        }
      ]
    },
    {
      "cell_type": "code",
      "source": [
        "# Lets now split up the data into train and validation sets\n",
        "n = int(0.9*len(data)) # first 90% will be train, rest val\n",
        "train_data = data[:n]\n",
        "val_data = data[n:]"
      ],
      "metadata": {
        "id": "ss2qXQ-2qOeq"
      },
      "execution_count": null,
      "outputs": []
    },
    {
      "cell_type": "code",
      "source": [
        "block_size = 8\n",
        "train_data[:block_size+1]"
      ],
      "metadata": {
        "colab": {
          "base_uri": "https://localhost:8080/"
        },
        "id": "UTM4Uehlq5Hx",
        "outputId": "afb257b6-7ad0-4f0f-b0de-12dba1b54e7e"
      },
      "execution_count": null,
      "outputs": [
        {
          "output_type": "execute_result",
          "data": {
            "text/plain": [
              "tensor([22, 33, 45, 33, 46,  7,  0, 28, 40])"
            ]
          },
          "metadata": {},
          "execution_count": 14
        }
      ]
    },
    {
      "cell_type": "code",
      "source": [
        "# Model Training logic\n",
        "# where x holds the input values and y holds the output values. y here is x-offset-by-1\n",
        "# Essentially we are trying to train the model to identify the pattern to identify the next token given a specific sequence of token\n",
        "x = train_data[:block_size]\n",
        "y = train_data[1:block_size+1]\n",
        "print(f\"x: {x} '\\ny: {y}\")\n",
        "for t in range(block_size):\n",
        "  context = x[:t+1]\n",
        "  target = y[t]\n",
        "  print(f\"when input is {context} the target: {target}\")"
      ],
      "metadata": {
        "colab": {
          "base_uri": "https://localhost:8080/"
        },
        "id": "txJTEl1trgDd",
        "outputId": "7175990d-feda-45c0-9544-8943164e2349"
      },
      "execution_count": null,
      "outputs": [
        {
          "output_type": "stream",
          "name": "stdout",
          "text": [
            "x: tensor([22, 33, 45, 33, 46,  7,  0, 28]) '\n",
            "y: tensor([33, 45, 33, 46,  7,  0, 28, 40])\n",
            "when input is tensor([22]) the target: 33\n",
            "when input is tensor([22, 33]) the target: 45\n",
            "when input is tensor([22, 33, 45]) the target: 33\n",
            "when input is tensor([22, 33, 45, 33]) the target: 46\n",
            "when input is tensor([22, 33, 45, 33, 46]) the target: 7\n",
            "when input is tensor([22, 33, 45, 33, 46,  7]) the target: 0\n",
            "when input is tensor([22, 33, 45, 33, 46,  7,  0]) the target: 28\n",
            "when input is tensor([22, 33, 45, 33, 46,  7,  0, 28]) the target: 40\n"
          ]
        }
      ]
    },
    {
      "cell_type": "code",
      "source": [
        "# training the model\n",
        "torch.manual_seed(2207) # since we are going to sample random chunks of data from the training data set, we are setting a seed for randomization\n",
        "batch_size = 4 # how many independent sequences will we process in parallel\n",
        "block_size = 8 # what is the maximum context length of predictions?\n",
        "\n",
        "def get_batch(split):\n",
        "  # generate a small bacth of data of inputs x and targets y\n",
        "  data = train_data if split == 'train' else val_data\n",
        "  ix = torch.randint(len(data) - block_size, (batch_size,))\n",
        "  print(f'ix : {ix}')\n",
        "  x = torch.stack([data[i:i+block_size] for i in ix])\n",
        "  y = torch.stack([data[1+i:i+block_size+1] for i in ix])\n",
        "  return x, y\n",
        "\n",
        "xb, yb = get_batch('train')\n",
        "print(f\"inputs: '\\n {xb} '\\n {xb.shape}\")\n",
        "print(f\"targets: '\\n {yb} '\\n {yb.shape}\")\n",
        "\n",
        "for b in range(batch_size):\n",
        "  for t in range(block_size):\n",
        "    context = xb[b, :t+1]\n",
        "    target = yb[b,t]\n",
        "    print(f\"when input is {context.tolist()} the target: {target}\")"
      ],
      "metadata": {
        "colab": {
          "base_uri": "https://localhost:8080/"
        },
        "id": "Iv3eMrfSy0Lg",
        "outputId": "14241521-9d50-4232-91de-66de97084190"
      },
      "execution_count": null,
      "outputs": [
        {
          "output_type": "stream",
          "name": "stdout",
          "text": [
            "ix : tensor([4546, 1373, 3594, 1762])\n",
            "inputs: '\n",
            " tensor([[ 0, 13, 29, 12, 17, 14, 27, 27],\n",
            "        [50, 38, 53, 44,  1, 55, 33, 51],\n",
            "        [54, 37,  1, 45, 57,  1, 35, 44],\n",
            "        [55, 41, 38, 37,  4,  1, 33, 51]]) '\n",
            " torch.Size([4, 8])\n",
            "targets: '\n",
            " tensor([[13, 29, 12, 17, 14, 27, 27,  1],\n",
            "        [38, 53, 44,  1, 55, 33, 51,  1],\n",
            "        [37,  1, 45, 57,  1, 35, 44, 47],\n",
            "        [41, 38, 37,  4,  1, 33, 51,  1]]) '\n",
            " torch.Size([4, 8])\n",
            "when input is [0] the target: 13\n",
            "when input is [0, 13] the target: 29\n",
            "when input is [0, 13, 29] the target: 12\n",
            "when input is [0, 13, 29, 12] the target: 17\n",
            "when input is [0, 13, 29, 12, 17] the target: 14\n",
            "when input is [0, 13, 29, 12, 17, 14] the target: 27\n",
            "when input is [0, 13, 29, 12, 17, 14, 27] the target: 27\n",
            "when input is [0, 13, 29, 12, 17, 14, 27, 27] the target: 1\n",
            "when input is [50] the target: 38\n",
            "when input is [50, 38] the target: 53\n",
            "when input is [50, 38, 53] the target: 44\n",
            "when input is [50, 38, 53, 44] the target: 1\n",
            "when input is [50, 38, 53, 44, 1] the target: 55\n",
            "when input is [50, 38, 53, 44, 1, 55] the target: 33\n",
            "when input is [50, 38, 53, 44, 1, 55, 33] the target: 51\n",
            "when input is [50, 38, 53, 44, 1, 55, 33, 51] the target: 1\n",
            "when input is [54] the target: 37\n",
            "when input is [54, 37] the target: 1\n",
            "when input is [54, 37, 1] the target: 45\n",
            "when input is [54, 37, 1, 45] the target: 57\n",
            "when input is [54, 37, 1, 45, 57] the target: 1\n",
            "when input is [54, 37, 1, 45, 57, 1] the target: 35\n",
            "when input is [54, 37, 1, 45, 57, 1, 35] the target: 44\n",
            "when input is [54, 37, 1, 45, 57, 1, 35, 44] the target: 47\n",
            "when input is [55] the target: 41\n",
            "when input is [55, 41] the target: 38\n",
            "when input is [55, 41, 38] the target: 37\n",
            "when input is [55, 41, 38, 37] the target: 4\n",
            "when input is [55, 41, 38, 37, 4] the target: 1\n",
            "when input is [55, 41, 38, 37, 4, 1] the target: 33\n",
            "when input is [55, 41, 38, 37, 4, 1, 33] the target: 51\n",
            "when input is [55, 41, 38, 37, 4, 1, 33, 51] the target: 1\n"
          ]
        }
      ]
    },
    {
      "cell_type": "code",
      "source": [
        "import torch\n",
        "import torch.nn as nn\n",
        "from torch.nn import functional as F\n",
        "torch.manual_seed(2207)\n",
        "\n",
        "class BigramLanguageModel(nn.Module):\n",
        "\n",
        "  def __init__(self,vocab_size):\n",
        "    super().__init__()\n",
        "    # each token directly reads off the logits for the next token from the lookup table\n",
        "    self.token_embedding_table = nn.Embedding(vocab_size, vocab_size)\n",
        "\n",
        "  def forward(self, idx, targets):\n",
        "\n",
        "    #idx and targets"
      ],
      "metadata": {
        "id": "PZ3Ojr2AWpk5"
      },
      "execution_count": null,
      "outputs": []
    }
  ]
}